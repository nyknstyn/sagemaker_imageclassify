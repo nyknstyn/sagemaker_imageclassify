{
 "cells": [
  {
   "cell_type": "code",
   "execution_count": null,
   "metadata": {},
   "outputs": [],
   "source": [
    "import os\n",
    "import sagemaker\n",
    "import numpy as np\n",
    "import tensorflow as tf\n",
    "from sagemaker.tensorflow import TensorFlow"
   ]
  },
  {
   "cell_type": "code",
   "execution_count": null,
   "metadata": {},
   "outputs": [],
   "source": [
    "ON_SAGEMAKER_NOTEBOOK = True\n",
    "\n",
    "# train_instance_type='local_gpu'\n",
    "train_instance_type='ml.p2.xlarge'\n",
    "deploy_instance_type='ml.c5.2xlarge'\n",
    "\n",
    "bucket = 'quikr-datascience-mumbai'\n",
    "key = 'image_classify/ena_classify/data'"
   ]
  },
  {
   "cell_type": "code",
   "execution_count": null,
   "metadata": {},
   "outputs": [],
   "source": [
    "train_input_path = \"s3://{}/{}/train/\".format(bucket, key)\n",
    "validation_input_path = \"s3://{}/{}/validation/\".format(bucket, key)"
   ]
  },
  {
   "cell_type": "code",
   "execution_count": null,
   "metadata": {},
   "outputs": [],
   "source": [
    "sagemaker_session = sagemaker.Session()\n",
    "if ON_SAGEMAKER_NOTEBOOK:\n",
    "    role = sagemaker.get_execution_role()\n",
    "else:\n",
    "    role = '[IAM ROLE]'"
   ]
  },
  {
   "cell_type": "code",
   "execution_count": null,
   "metadata": {},
   "outputs": [],
   "source": [
    "hyperparameters = {'epochs': 100, 'batch_size' : 64}"
   ]
  },
  {
   "cell_type": "code",
   "execution_count": null,
   "metadata": {},
   "outputs": [],
   "source": [
    "os.path.abspath('')"
   ]
  },
  {
   "cell_type": "code",
   "execution_count": null,
   "metadata": {},
   "outputs": [],
   "source": [
    "estimator = TensorFlow(base_job_name='ena-classify-mobilenet-2',\n",
    "#                        entry_point=os.path.join(os.path.abspath(''),'entry.py'),\n",
    "                       entry_point='entry.py',\n",
    "                       source_dir='src',\n",
    "                       model_dir='s3://quikr-datascience-mumbai/image_classify/ena_classify/sagemaker_output',\n",
    "                       code_location='s3://quikr-datascience-mumbai/image_classify/ena_classify/sagemaker_output',\n",
    "                       role=role,\n",
    "                       framework_version='2.0.0',\n",
    "                       py_version='py3',\n",
    "                       output_path='s3://quikr-datascience-mumbai/image_classify/ena_classify/sagemaker_output',\n",
    "                       hyperparameters=hyperparameters,\n",
    "                       train_instance_count=1, train_instance_type=train_instance_type,\n",
    "                       tags=[{'Key':'project', 'Value':'image-classify-102'}])"
   ]
  },
  {
   "cell_type": "code",
   "execution_count": null,
   "metadata": {},
   "outputs": [],
   "source": [
    "print(\"Training ...\")\n",
    "local_inputs = {'train' : train_input_path, \n",
    "                'validation' : validation_input_path}\n",
    "estimator.fit(inputs=local_inputs)"
   ]
  },
  {
   "cell_type": "markdown",
   "metadata": {},
   "source": [
    "## Deploying"
   ]
  },
  {
   "cell_type": "code",
   "execution_count": null,
   "metadata": {},
   "outputs": [],
   "source": [
    "from sagemaker.tensorflow.serving import Model"
   ]
  },
  {
   "cell_type": "code",
   "execution_count": null,
   "metadata": {},
   "outputs": [],
   "source": [
    "!ls"
   ]
  },
  {
   "cell_type": "code",
   "execution_count": null,
   "metadata": {},
   "outputs": [],
   "source": [
    "model = Model(entry_point='inference.py',\n",
    "#               dependencies=['requirements.txt'],\n",
    "              source_dir='./src',\n",
    "              model_data='s3://quikr-datascience-mumbai/image_classify/ena_classify/sagemaker_output/ena-classify-mobilenet-2-2020-02-20-21-31-56-215/output/model.tar.gz',\n",
    "              framework_version='2.0.0', role=role)\n",
    "predictor = model.deploy(initial_instance_count=1, endpoint_name='quikr-eye-v1', instance_type=deploy_instance_type,\n",
    "                        tags=[{'Key':'project', 'Value':'image-classify-102'}])"
   ]
  }
 ],
 "metadata": {
  "kernelspec": {
   "display_name": "conda_tensorflow_p36",
   "language": "python",
   "name": "conda_tensorflow_p36"
  },
  "language_info": {
   "codemirror_mode": {
    "name": "ipython",
    "version": 3
   },
   "file_extension": ".py",
   "mimetype": "text/x-python",
   "name": "python",
   "nbconvert_exporter": "python",
   "pygments_lexer": "ipython3",
   "version": "3.6.5"
  }
 },
 "nbformat": 4,
 "nbformat_minor": 2
}
